{
 "cells": [
  {
   "cell_type": "markdown",
   "metadata": {
    "colab_type": "text",
    "id": "fjg9S4Jm9jY5"
   },
   "source": [
    "#### rho_d in this code is zeta_d of the paper"
   ]
  },
  {
   "cell_type": "code",
   "execution_count": 1,
   "metadata": {},
   "outputs": [
    {
     "name": "stdout",
     "output_type": "stream",
     "text": [
      "4.4.0\n",
      "1.19.1\n"
     ]
    }
   ],
   "source": [
    "import numpy as np\n",
    "import cv2\n",
    "import matplotlib.pyplot as plt\n",
    "import matplotlib.gridspec as gridspec\n",
    "import os\n",
    "import sys\n",
    "import time\n",
    "from numba.experimental import jitclass\n",
    "from numba import double, float32, int32, boolean, typeof\n",
    "from numba import jit\n",
    "from numba.types import Tuple, List\n",
    "\n",
    "from mpl_toolkits.axes_grid1 import make_axes_locatable\n",
    "from pimg import PBayer\n",
    "import glob\n",
    "import json\n",
    "\n",
    "print(cv2.__version__)\n",
    "print(np.__version__)\n",
    "pi = np.pi\n"
   ]
  },
  {
   "cell_type": "markdown",
   "metadata": {},
   "source": [
    "#### get AoLP and DoLP from captured image"
   ]
  },
  {
   "cell_type": "code",
   "execution_count": 2,
   "metadata": {},
   "outputs": [],
   "source": [
    "###############################################################\n",
    "w = 1224\n",
    "h = 1024\n",
    "IMAGE_PATH = '../../../data/sky/out/HDR/black_tourtle/'\n",
    "CALIB_PATH = '../../../data/sky/calib/'\n"
   ]
  },
  {
   "cell_type": "code",
   "execution_count": 3,
   "metadata": {},
   "outputs": [
    {
     "name": "stdout",
     "output_type": "stream",
     "text": [
      "1024 1224\n"
     ]
    }
   ],
   "source": [
    "mask_full = cv2.imread(IMAGE_PATH +'mask_skyarea.png',  cv2.IMREAD_GRAYSCALE).astype(np.float32) /(255-1.0)\n",
    "mask = mask_full[::2,::2]\n",
    "# mask_sky_full = cv2.imread(IMAGE_PATH +'mask_sky.png',  cv2.IMREAD_GRAYSCALE).astype(np.float32) /(255-1.0)\n",
    "# mask_sky = mask_sky_full[::2,::2]\n",
    "\n",
    "h, w = mask.shape\n",
    "print(h,w)\n",
    "\n",
    "# quiver\n",
    "skipStep=50\n",
    "pixelPositions_all = np.mgrid[0:w, 0:h].T # h, w, 2\n",
    "pixelPositions = pixelPositions_all[::skipStep, ::skipStep,:].reshape(-1,2)\n",
    "pixelU = pixelPositions[:,0] \n",
    "pixelV = pixelPositions[:,1]"
   ]
  },
  {
   "cell_type": "markdown",
   "metadata": {},
   "source": [
    "### function to calculate residual"
   ]
  },
  {
   "cell_type": "code",
   "execution_count": 4,
   "metadata": {},
   "outputs": [],
   "source": [
    "import mueller\n",
    "import stokes\n",
    "# variables : I_d, t_d, I_s, rho_d, scalar coefficients, azimuth angle and zenith angle \n",
    "# azimuth limitation : [-pi , 0] yz-plane\n",
    "# zenith limitation : [0 , pi] x-axis\n",
    "@jit\n",
    "def getResidual_init( variables, observed_stokes ,refractive_index, sun_dir, DoLPsmax, skyModelParams,zenith):\n",
    "    image_num = observed_stokes.shape[0]\n",
    "    pixel_num = observed_stokes.shape[1]\n",
    "    \n",
    "    I_d = np.ones(image_num)\n",
    "    I_d[1:image_num] = variables[0:image_num-1]\n",
    "    t_d = variables[image_num-1]\n",
    "    I_s = I_d*t_d\n",
    "    rho_d = variables[image_num]\n",
    "    I_zeta = variables[image_num+1:2*image_num+1]\n",
    "    \n",
    "    residual = np.zeros(4*image_num*pixel_num)\n",
    "    for i in range(0,pixel_num):\n",
    "        offset = 2*image_num+1+2*i\n",
    "        n = np.zeros((3))\n",
    "        n[0] = np.cos(variables[offset+1])\n",
    "        n[1] = np.cos(variables[offset])*np.sin(variables[offset+1])\n",
    "        n[2] = np.sin(variables[offset])*np.sin(variables[offset+1])\n",
    "        \n",
    "        residual[4*image_num*i:4*image_num*(i+1)] = stokes.getOnePixelResidual_PerezSkyModel_Timevariation(n, observed_stokes[:,i], refractive_index, sun_dir, DoLPsmax, I_zeta, I_d, I_s, rho_d, skyModelParams, zenith)\n",
    "    return residual\n"
   ]
  },
  {
   "cell_type": "code",
   "execution_count": 5,
   "metadata": {},
   "outputs": [],
   "source": [
    "import stokes\n",
    "# variables : I_d, t_d, I_s, rho_d, scalar coefficients\n",
    "@jit\n",
    "def getResidual( variables, observed_stokes, n, refractive_index, sun_dir, DoLPsmax, skyModelParams,zenith):\n",
    "    image_num = observed_stokes.shape[0]\n",
    "    pixel_num = observed_stokes.shape[1]\n",
    "    \n",
    "    I_d = np.ones(image_num)\n",
    "    I_d[1:image_num] = variables[0:image_num-1]\n",
    "    t_d = variables[image_num-1]\n",
    "    I_s = I_d*t_d\n",
    "    rho_d = variables[image_num]\n",
    "    I_zeta = variables[image_num+1:2*image_num+1]\n",
    "    \n",
    "    residual = np.zeros(4*image_num*pixel_num)\n",
    "    for i in range(0,pixel_num):\n",
    "        n_i = n[i]        \n",
    "        residual[4*image_num*i:4*image_num*(i+1)] = stokes.getOnePixelResidual_PerezSkyModel_Timevariation(n_i, observed_stokes[:,i], refractive_index, sun_dir, DoLPsmax, I_zeta, I_d, I_s, rho_d, skyModelParams, zenith)\n",
    "    return residual\n"
   ]
  },
  {
   "cell_type": "code",
   "execution_count": 6,
   "metadata": {},
   "outputs": [],
   "source": [
    "import stokes\n",
    "# variables : azimuth angle, zenith angle\n",
    "# azimuth limitation : [-pi , 0] yz-plane\n",
    "# zenith limitation : [0 , pi] x-axis\n",
    "@jit\n",
    "def getResidual2( variables, observed_stokes ,refractive_index, sun_dir, DoLPsmax, I_zeta, I_d, I_s, rho_d, skyModelParams, zenith,mask):\n",
    "    image_num = observed_stokes.shape[0]\n",
    "    pixely_num = observed_stokes.shape[1] \n",
    "    pixelx_num = observed_stokes.shape[2]\n",
    "    pixel_num = pixelx_num*pixely_num\n",
    "    \n",
    "    n = np.zeros((3))\n",
    "    n[0] = np.cos(variables[1])\n",
    "    n[1] = np.cos(variables[0])*np.sin(variables[1])\n",
    "    n[2] = np.sin(variables[0])*np.sin(variables[1])\n",
    "    \n",
    "    residual = np.zeros(4*image_num*pixel_num)\n",
    "    for i in range(0, pixely_num):\n",
    "        for j in range(0, pixelx_num):\n",
    "            iteration = i*pixelx_num + j\n",
    "            if mask[i,j] >=1:\n",
    "                residual[4*image_num*iteration : 4*image_num*(iteration+1)] = stokes.getOnePixelResidual_PerezSkyModel_Timevariation(n, observed_stokes[:,i,j], refractive_index, sun_dir, DoLPsmax, I_zeta, I_d, I_s, rho_d, skyModelParams, zenith)\n",
    "            else:\n",
    "                residual[4*image_num*iteration : 4*image_num*(iteration+1)] = 0\n",
    "    return residual\n"
   ]
  },
  {
   "cell_type": "code",
   "execution_count": 7,
   "metadata": {},
   "outputs": [],
   "source": [
    "import normal\n",
    "def estimateNormal(step, pixel_range, n_init, bounds, observed_stokes, refractive_index, sun_dir, DoLPsmax, I_zeta, I_d, I_s, rho_d, skyModelParams, zenith, mask):\n",
    "    phi_est, theta_est = normal.n2pt_x(n_init)\n",
    "    h = n_init.shape[0]\n",
    "    w = n_init.shape[1]\n",
    "    for i in range(0, h, step):\n",
    "        if (i/step)%10==0:\n",
    "            print('i: '+str(i)) \n",
    "\n",
    "        for j in range(0, w,step):\n",
    "            if mask[i,j] >= 1:\n",
    "                # take neighbor pixel\n",
    "                up = i-pixel_range\n",
    "                down = i+pixel_range+1\n",
    "                left = j-pixel_range\n",
    "                right = j+pixel_range+1\n",
    "                if (up<0) | (down>=h) | (left<0) | (right>=w):\n",
    "                    continue\n",
    "                observed_stokes_ = observed_stokes[:, up:down, left:right]\n",
    "                mask_ = mask[up:down, left:right]\n",
    "\n",
    "                x0 = np.array([phi_est[i,j], theta_est[i,j]])\n",
    "                ret = least_squares(getResidual2,x0=x0, bounds=bounds, \n",
    "                                    args=(observed_stokes_, refractive_index, sun_dir, DoLPsmax, I_zeta_est, I_d_est, I_s_est, rho_d_est, skyModelParams, zenith, mask_))\n",
    "\n",
    "                #take pixel to update\n",
    "                width = step//2\n",
    "                up = np.max([i-width, 0])\n",
    "                down = np.min([i+width+1, h])\n",
    "                left = np.max([j-width, 0])\n",
    "                right = np.min([j+width+1, w])\n",
    "                phi_est[up:down, left:right] = ret.x[0]\n",
    "                theta_est[up:down, left:right] = ret.x[1]\n",
    "            else:\n",
    "                phi_est[i,j] = np.nan\n",
    "                theta_est[i,j] = np.nan\n",
    "\n",
    "    n_est = normal.pt2n_x(phi_est, theta_est)\n",
    "    return n_est"
   ]
  },
  {
   "cell_type": "markdown",
   "metadata": {},
   "source": [
    "## set parameters"
   ]
  },
  {
   "cell_type": "code",
   "execution_count": 8,
   "metadata": {},
   "outputs": [
    {
     "name": "stdout",
     "output_type": "stream",
     "text": [
      "[[ 0.16224932  0.02648254 -0.98639436]\n",
      " [-0.15066037  0.01035251 -0.98853137]\n",
      " [-0.46080595  0.00458513 -0.88748907]\n",
      " [-0.72654443  0.04305343 -0.68576934]\n",
      " [-0.88612334  0.09845134 -0.45287168]]\n",
      "[ 0.        -0.8660254 -0.5      ]\n"
     ]
    }
   ],
   "source": [
    "# known parameters\n",
    "refractive_index = 1.80\n",
    "scene_list = ['1050','1200','1320','1440','1540']\n",
    "sun_dir_list = np.load('sundir_data/black_tourtle_sundir.npy')\n",
    "DoLPsmax_list = np.array([0.4,0.4,0.4,0.4,0.4,0.5])\n",
    "skyModelParams = np.array([-1.0, -0.32, 10, -3.0, 0.45])\n",
    "z_theta = np.pi/6\n",
    "zenith = np.array([ 0, -np.cos(z_theta), -np.sin(z_theta)]) # zenith for camera coordinate system\n",
    "print(sun_dir_list)\n",
    "print(zenith)\n",
    "\n",
    "# data index to use for estimation\n",
    "index_list = np.array([0,3])\n",
    "# interval of pixel sampling\n",
    "pixelx_interval_1 =  40\n",
    "pixely_interval_1 =  40\n",
    "# step of normal estimation\n",
    "step1 = 8\n",
    "# range of neighbor pixel e.g. range=1 is 3x3 pixels\n",
    "pixel_range1 = 2\n",
    "\n",
    "# interval of pixel sampling\n",
    "pixelx_interval_2 =  1\n",
    "pixely_interval_2 =  1\n",
    "# step of normal estimation\n",
    "step2 = np.array([1])\n",
    "step = step2[-1]\n",
    "# range of neighbor pixel e.g. range=1 is 3x3 pixels\n",
    "pixel_range2 = np.array([1])\n",
    "# number of iteration\n",
    "iteration_num = step2.shape[0]\n",
    "\n",
    "# initial values\n",
    "I_d_init = 1\n",
    "t_d_init = 1\n",
    "rho_d_init = 1e-9\n",
    "I_zeta_init = 1\n",
    "phi_init = -np.pi*5/6 # yz-plane azimuth angle\n",
    "theta_init = np.pi/2 # x-axis zenith angle\n",
    "\n",
    "t_d_min = 0\n",
    "t_d_max = np.inf"
   ]
  },
  {
   "cell_type": "markdown",
   "metadata": {},
   "source": [
    "## estimate initial normal"
   ]
  },
  {
   "cell_type": "code",
   "execution_count": 9,
   "metadata": {
    "scrolled": true
   },
   "outputs": [
    {
     "name": "stdout",
     "output_type": "stream",
     "text": [
      "pixel_num : 79\n",
      "I_d: [1.         0.67474118]\n",
      "t_d: 0.43758346020758593\n",
      "rho_d: 0.04200242531823134\n",
      "I_zeta: [0.53638251 0.52258946]\n",
      "error: 0.004604451611156782\n",
      "i: 0\n",
      "i: 80\n",
      "i: 160\n",
      "i: 240\n",
      "i: 320\n",
      "i: 400\n",
      "i: 480\n",
      "i: 560\n",
      "i: 640\n",
      "i: 720\n",
      "i: 800\n",
      "i: 880\n",
      "i: 960\n"
     ]
    },
    {
     "name": "stderr",
     "output_type": "stream",
     "text": [
      "Clipping input data to the valid range for imshow with RGB data ([0..1] for floats or [0..255] for integers).\n"
     ]
    },
    {
     "data": {
      "image/png": "[encoded data removed]",
      "text/plain": [
       "<Figure size 500x500 with 1 Axes>"
      ]
     },
     "metadata": {
      "needs_background": "light"
     },
     "output_type": "display_data"
    }
   ],
   "source": [
    "from scipy.optimize import least_squares\n",
    "\n",
    "image_num = index_list.shape[0]\n",
    "observed_stokes = np.zeros((image_num,h,w,4))\n",
    "sun_dir = np.zeros((image_num, 3))\n",
    "DoLPsmax = np.zeros((image_num))\n",
    "\n",
    "\n",
    "I_d_est = np.zeros((image_num))\n",
    "t_d_est = 0\n",
    "rho_d_est = 0\n",
    "I_zeta_est = 0\n",
    "n_est = np.zeros((h,w,3))\n",
    "\n",
    "for i in range(image_num):\n",
    "    index = index_list[i]\n",
    "    \n",
    "    pimg = cv2.imread(IMAGE_PATH + scene_list[index] +'/L.png', cv2.IMREAD_ANYDEPTH | cv2.IMREAD_GRAYSCALE).astype(np.float32) /(256*256-1.0)\n",
    "    pbayer_ = PBayer(pimg)\n",
    "    observed_stokes[i] = pbayer_.stokes\n",
    "\n",
    "    sun_dir[i] = sun_dir_list[index]\n",
    "    \n",
    "    DoLPsmax[i] = DoLPsmax_list[index]\n",
    "\n",
    "#sampling some pixels to estimate uniform parameters\n",
    "pixel_num = 0\n",
    "max_pixel_num = int(np.ceil((h/pixely_interval_1+1)*(w/pixelx_interval_1+1)))\n",
    "sampled_observed_stokes = np.zeros((image_num, max_pixel_num, 4))\n",
    "for i in range(0,h,pixely_interval_1):\n",
    "    for j in range(0,w,pixelx_interval_1):\n",
    "        if mask[i,j] >= 1:\n",
    "            sampled_observed_stokes[:,pixel_num,:] = observed_stokes[:,i,j,:]\n",
    "            pixel_num += 1\n",
    "sampled_observed_stokes = sampled_observed_stokes[:,0:pixel_num,:]\n",
    "print(\"pixel_num : \"+str(pixel_num))\n",
    "\n",
    "sep1 = image_num-1 # I_d\n",
    "sep2 = image_num # t_d\n",
    "sep3 = image_num+1 # rho_d\n",
    "sep4 = 2*image_num+1 # I_zata\n",
    "sep5 = 2*image_num+1+2*pixel_num # normals\n",
    "# initial value\n",
    "x0 = np.zeros((sep5))\n",
    "x0[0:sep1] = I_d_init\n",
    "x0[sep1:sep2] = t_d_init\n",
    "x0[sep2:sep3] = rho_d_init\n",
    "x0[sep3:sep4] = I_zeta_init\n",
    "x0[sep4:sep5:2] = phi_init\n",
    "x0[sep4+1:sep5:2] = theta_init\n",
    "\n",
    "# boundary\n",
    "lb = np.zeros((sep5))\n",
    "lb[0:sep1] = 0\n",
    "lb[sep1:sep2] = t_d_min\n",
    "lb[sep2:sep3] =0\n",
    "lb[sep3:sep4] = 0\n",
    "lb[sep4:sep5:2] = -np.pi\n",
    "lb[sep4+1:sep5:2] = 0\n",
    "\n",
    "ub = np.zeros((sep5))\n",
    "ub[0:sep1] = np.inf\n",
    "ub[sep1:sep2] = np.inf\n",
    "ub[sep2:sep3] = np.inf\n",
    "ub[sep3:sep4] = np.inf\n",
    "ub[sep4:sep5:2] = 0\n",
    "ub[sep4+1:sep5:2] = np.pi\n",
    "lb_list = lb.tolist()\n",
    "ub_list = ub.tolist()\n",
    "\n",
    "ret = least_squares(getResidual_init,x0=x0, bounds=(lb_list,ub_list), \n",
    "                    args=(sampled_observed_stokes, refractive_index, sun_dir, DoLPsmax, skyModelParams, zenith), max_nfev=100)\n",
    "I_d_est[0] = 1\n",
    "I_d_est[1:image_num] = ret.x[0:sep1]\n",
    "t_d_est = ret.x[sep1]\n",
    "rho_d_est = ret.x[sep2]\n",
    "I_zeta_est = ret.x[sep3:sep4]\n",
    "print('I_d: '+str(I_d_est))\n",
    "print('t_d: '+str(t_d_est))\n",
    "print('rho_d: '+str(rho_d_est))\n",
    "print('I_zeta: '+str(I_zeta_est))\n",
    "print('error: '+str(ret.cost))\n",
    "I_s_est = I_d_est*t_d_est\n",
    "\n",
    "\n",
    "# estimate normal\n",
    "\n",
    "# initial value\n",
    "n_init = np.zeros((h,w,3))\n",
    "n_init[:,:] = normal.pt2n_x_scalar(phi_init,theta_init)\n",
    "# boundary\n",
    "lb = np.zeros((2))\n",
    "lb[0] = -np.pi\n",
    "lb[1] = 0\n",
    "ub = np.zeros((2))\n",
    "ub[0] = 0\n",
    "ub[1] = np.pi\n",
    "lb_list = lb.tolist()\n",
    "ub_list = ub.tolist()\n",
    "bounds = (lb_list,ub_list)\n",
    "\n",
    "n_est = estimateNormal(step1, pixel_range1, n_init, bounds, observed_stokes, refractive_index, sun_dir, DoLPsmax, I_zeta_est, I_d_est, I_s_est, rho_d_est, skyModelParams, zenith, mask)\n",
    "            \n",
    "plt.figure(figsize=(5,5), dpi=100)\n",
    "plt.imshow(mueller.getNormalImg(n_est[::step,::step]) * mask[::step,::step,np.newaxis]),plt.title('estimation')\n",
    "plt.show()   "
   ]
  },
  {
   "cell_type": "markdown",
   "metadata": {},
   "source": [
    "## alternating minimization"
   ]
  },
  {
   "cell_type": "code",
   "execution_count": 10,
   "metadata": {
    "scrolled": true
   },
   "outputs": [
    {
     "name": "stdout",
     "output_type": "stream",
     "text": [
      "iteration: 0\n",
      "pixel_num : 130265\n",
      "I_d: [1.         0.63259594]\n",
      "t_d: 0.15114189934875844\n",
      "rho_d: 0.04906512632053562\n",
      "I_zeta: [0.56657033 0.55646859]\n",
      "error: 98.83896524188226\n",
      "i: 0\n",
      "i: 10\n",
      "i: 20\n",
      "i: 30\n",
      "i: 40\n",
      "i: 50\n",
      "i: 60\n",
      "i: 70\n",
      "i: 80\n",
      "i: 90\n",
      "i: 100\n",
      "i: 110\n",
      "i: 120\n",
      "i: 130\n",
      "i: 140\n",
      "i: 150\n",
      "i: 160\n",
      "i: 170\n",
      "i: 180\n",
      "i: 190\n",
      "i: 200\n",
      "i: 210\n",
      "i: 220\n",
      "i: 230\n",
      "i: 240\n",
      "i: 250\n",
      "i: 260\n",
      "i: 270\n",
      "i: 280\n",
      "i: 290\n",
      "i: 300\n",
      "i: 310\n",
      "i: 320\n",
      "i: 330\n",
      "i: 340\n",
      "i: 350\n",
      "i: 360\n",
      "i: 370\n",
      "i: 380\n",
      "i: 390\n",
      "i: 400\n",
      "i: 410\n",
      "i: 420\n",
      "i: 430\n",
      "i: 440\n",
      "i: 450\n",
      "i: 460\n",
      "i: 470\n",
      "i: 480\n",
      "i: 490\n",
      "i: 500\n",
      "i: 510\n",
      "i: 520\n",
      "i: 530\n",
      "i: 540\n",
      "i: 550\n",
      "i: 560\n",
      "i: 570\n",
      "i: 580\n",
      "i: 590\n",
      "i: 600\n",
      "i: 610\n",
      "i: 620\n",
      "i: 630\n",
      "i: 640\n",
      "i: 650\n",
      "i: 660\n",
      "i: 670\n",
      "i: 680\n",
      "i: 690\n",
      "i: 700\n",
      "i: 710\n",
      "i: 720\n",
      "i: 730\n",
      "i: 740\n",
      "i: 750\n",
      "i: 760\n",
      "i: 770\n",
      "i: 780\n",
      "i: 790\n",
      "i: 800\n",
      "i: 810\n",
      "i: 820\n",
      "i: 830\n",
      "i: 840\n",
      "i: 850\n",
      "i: 860\n",
      "i: 870\n",
      "i: 880\n",
      "i: 890\n",
      "i: 900\n",
      "i: 910\n",
      "i: 920\n",
      "i: 930\n",
      "i: 940\n",
      "i: 950\n",
      "i: 960\n",
      "i: 970\n",
      "i: 980\n",
      "i: 990\n",
      "i: 1000\n",
      "i: 1010\n",
      "i: 1020\n"
     ]
    },
    {
     "name": "stderr",
     "output_type": "stream",
     "text": [
      "Clipping input data to the valid range for imshow with RGB data ([0..1] for floats or [0..255] for integers).\n"
     ]
    },
    {
     "data": {
      "image/png": "[encoded data removed]",
      "text/plain": [
       "<Figure size 500x500 with 1 Axes>"
      ]
     },
     "metadata": {
      "needs_background": "light"
     },
     "output_type": "display_data"
    }
   ],
   "source": [
    "sep1 = image_num-1 # I_d\n",
    "sep2 = image_num # t_d\n",
    "sep3 = image_num+1 # rho_d\n",
    "sep4 = 2*image_num+1 # I_zata\n",
    "# first step boundary\n",
    "lb_1 = np.zeros((sep4))\n",
    "lb_1[0:sep1] = 0\n",
    "lb_1[sep1:sep2] = t_d_min\n",
    "lb_1[sep2:sep3] =0\n",
    "lb_1[sep3:sep4] = 0\n",
    "ub_1 = np.zeros((sep4))\n",
    "ub_1[0:sep1] = np.inf\n",
    "ub_1[sep1:sep2] = np.inf\n",
    "ub_1[sep2:sep3] = np.inf\n",
    "ub_1[sep3:sep4] = np.inf\n",
    "lb_list_1 = lb_1.tolist()\n",
    "ub_list_1 = ub_1.tolist()\n",
    "\n",
    "# second step boundary\n",
    "lb_2 = np.zeros((2))\n",
    "lb_2[0] = -np.pi # phi\n",
    "lb_2[1] = 0 # theta\n",
    "ub_2 = np.zeros((2))\n",
    "ub_2[0] = 0\n",
    "ub_2[1] = np.pi\n",
    "lb_list_2 = lb_2.tolist()\n",
    "ub_list_2 = ub_2.tolist()\n",
    "bounds2 = (lb_list_2, ub_list_2)\n",
    "\n",
    "error = np.zeros((h,w))\n",
    "for ite in range(0,iteration_num):\n",
    "    print('iteration: '+str(ite))\n",
    "    \n",
    "    # initial value\n",
    "    x0_1 = np.zeros((sep4))\n",
    "    x0_1[0:sep1] = I_d_est[1:]\n",
    "    x0_1[sep1:sep2] = t_d_est\n",
    "    x0_1[sep2:sep3] = rho_d_est\n",
    "    x0_1[sep3:sep4] = I_zeta_est    \n",
    "    \n",
    "    #sampling some pixels to estimate uniform parameters\n",
    "    pixel_num = 0\n",
    "    max_pixel_num = int(np.ceil((h/pixely_interval_2+1)*(w/pixelx_interval_2+1)))\n",
    "    sampled_observed_stokes = np.zeros((image_num, max_pixel_num, 4))\n",
    "    sampled_n_est = np.zeros((max_pixel_num, 3))\n",
    "    for i in range(0,h,pixely_interval_2):\n",
    "        for j in range(0,w,pixelx_interval_2):\n",
    "            if mask[i,j] >= 1:\n",
    "                sampled_observed_stokes[:,pixel_num,:] = observed_stokes[:,i,j,:]\n",
    "                sampled_n_est[pixel_num] = n_est[i,j]\n",
    "                pixel_num += 1\n",
    "    sampled_observed_stokes = sampled_observed_stokes[:,0:pixel_num,:]\n",
    "    sampled_n_est = sampled_n_est[0:pixel_num]\n",
    "    print(\"pixel_num : \"+str(pixel_num))\n",
    "    \n",
    "    ret = least_squares(getResidual,x0=x0_1, bounds=(lb_list_1,ub_list_1), \n",
    "                        args=(sampled_observed_stokes, sampled_n_est, refractive_index, sun_dir, DoLPsmax, skyModelParams, zenith), max_nfev=100)\n",
    "    \n",
    "    I_d_est[0] = 1\n",
    "    I_d_est[1:image_num] = ret.x[0:sep1]\n",
    "    t_d_est = ret.x[sep1]\n",
    "    rho_d_est = ret.x[sep2]\n",
    "    I_zeta_est = ret.x[sep3:sep4]\n",
    "    print('I_d: '+str(I_d_est))\n",
    "    print('t_d: '+str(t_d_est))\n",
    "    print('rho_d: '+str(rho_d_est))\n",
    "    print('I_zeta: '+str(I_zeta_est))\n",
    "    print('error: '+str(ret.cost))\n",
    "    I_s_est = I_d_est*t_d_est\n",
    "    \n",
    "    # estimate normal\n",
    "    n_est = estimateNormal(step2[ite], pixel_range2[ite], n_est, bounds2, observed_stokes, refractive_index, sun_dir, DoLPsmax, I_zeta_est, I_d_est, I_s_est, rho_d_est, skyModelParams, zenith, mask)\n",
    "    \n",
    "    plt.figure(figsize=(5,5), dpi=100)\n",
    "    plt.imshow(mueller.getNormalImg(n_est[::step,::step]) * mask[::step,::step,np.newaxis]),plt.title('estimation')\n",
    "    plt.show()"
   ]
  },
  {
   "cell_type": "code",
   "execution_count": 11,
   "metadata": {},
   "outputs": [
    {
     "name": "stdout",
     "output_type": "stream",
     "text": [
      "I_d: [1.         0.63259594]\n",
      "t_d: 0.15114189934875844\n",
      "rho_d: 0.04906512632053562\n",
      "I_zeta: [0.56657033 0.55646859]\n"
     ]
    }
   ],
   "source": [
    "print('I_d: '+str(I_d_est))\n",
    "print('t_d: '+str(t_d_est))\n",
    "print('rho_d: '+str(rho_d_est))\n",
    "print('I_zeta: '+str(I_zeta_est))"
   ]
  },
  {
   "cell_type": "code",
   "execution_count": 12,
   "metadata": {
    "scrolled": false
   },
   "outputs": [
    {
     "name": "stderr",
     "output_type": "stream",
     "text": [
      "Clipping input data to the valid range for imshow with RGB data ([0..1] for floats or [0..255] for integers).\n"
     ]
    },
    {
     "data": {
      "image/png": "[encoded data removed]",
      "text/plain": [
       "<Figure size 360x360 with 1 Axes>"
      ]
     },
     "metadata": {
      "needs_background": "light"
     },
     "output_type": "display_data"
    }
   ],
   "source": [
    "plt.figure(figsize=(5,5))\n",
    "plt.imshow(mueller.getNormalImg(n_est[::step,::step]) * mask[::step,::step,np.newaxis]),plt.title('estimation')\n",
    "plt.show()"
   ]
  },
  {
   "cell_type": "code",
   "execution_count": 13,
   "metadata": {},
   "outputs": [],
   "source": [
    "# save\n",
    "\n",
    "save_file = 'normal_data/black_tourtle_1050_1440'\n",
    "np.save(save_file, n_est)\n"
   ]
  },
  {
   "cell_type": "code",
   "execution_count": null,
   "metadata": {},
   "outputs": [],
   "source": []
  }
 ],
 "metadata": {
  "colab": {
   "collapsed_sections": [],
   "name": "NB00.ipynb",
   "provenance": [],
   "version": "0.3.2"
  },
  "kernelspec": {
   "display_name": "Python 3",
   "language": "python",
   "name": "python3"
  },
  "language_info": {
   "codemirror_mode": {
    "name": "ipython",
    "version": 3
   },
   "file_extension": ".py",
   "mimetype": "text/x-python",
   "name": "python",
   "nbconvert_exporter": "python",
   "pygments_lexer": "ipython3",
   "version": "3.8.2"
  }
 },
 "nbformat": 4,
 "nbformat_minor": 1
}
